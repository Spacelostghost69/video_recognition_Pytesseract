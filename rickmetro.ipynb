{
  "nbformat": 4,
  "nbformat_minor": 0,
  "metadata": {
    "colab": {
      "provenance": [],
      "authorship_tag": "ABX9TyOPUMWyYvLJI2OuKp7d/nYC",
      "include_colab_link": true
    },
    "kernelspec": {
      "name": "python3",
      "display_name": "Python 3"
    },
    "language_info": {
      "name": "python"
    }
  },
  "cells": [
    {
      "cell_type": "markdown",
      "metadata": {
        "id": "view-in-github",
        "colab_type": "text"
      },
      "source": [
        "<a href=\"https://colab.research.google.com/github/Spacelostghost69/video_recognition_Pytesseract/blob/main/rickmetro.ipynb\" target=\"_parent\"><img src=\"https://colab.research.google.com/assets/colab-badge.svg\" alt=\"Open In Colab\"/></a>"
      ]
    },
    {
      "cell_type": "code",
      "source": [
        "!pip install pytesseract"
      ],
      "metadata": {
        "colab": {
          "base_uri": "https://localhost:8080/"
        },
        "id": "01ewdg98I_co",
        "outputId": "6bbefa3d-5c23-464e-f377-c46ea842b4a5"
      },
      "execution_count": null,
      "outputs": [
        {
          "output_type": "stream",
          "name": "stdout",
          "text": [
            "Collecting pytesseract\n",
            "  Downloading pytesseract-0.3.10-py3-none-any.whl (14 kB)\n",
            "Requirement already satisfied: packaging>=21.3 in /usr/local/lib/python3.10/dist-packages (from pytesseract) (23.2)\n",
            "Requirement already satisfied: Pillow>=8.0.0 in /usr/local/lib/python3.10/dist-packages (from pytesseract) (9.4.0)\n",
            "Installing collected packages: pytesseract\n",
            "Successfully installed pytesseract-0.3.10\n"
          ]
        }
      ]
    },
    {
      "cell_type": "code",
      "execution_count": null,
      "metadata": {
        "id": "10Afi40fjWd1"
      },
      "outputs": [],
      "source": [
        "# import the necessary packages\n",
        "import numpy as np\n",
        "class VideoOCROutputBuilder:\n",
        "\tdef __init__(self, frame):\n",
        "\t\t# store the input frame dimensions\n",
        "\t\tself.maxW = frame.shape[1]\n",
        "\t\tself.maxH = frame.shape[0]\n",
        "\n",
        "\tdef build(self, frame, card=None, ocr=None):\n",
        "\t\t# grab the input frame dimensions and  initialize the card\n",
        "\t\t# image dimensions along with the OCR image dimensions\n",
        "\t\t(frameH, frameW) = frame.shape[:2]\n",
        "\t\t(cardW, cardH) = (0, 0)\n",
        "\t\t(ocrW, ocrH) = (0, 0)\n",
        "\t\t# if the card image is not empty, grab its dimensions\n",
        "\t\tif card is not None:\n",
        "\t\t\t(cardH, cardW) = card.shape[:2]\n",
        "\t\t# similarly, if the OCR image is not empty, grab its\n",
        "\t\t# dimensions\n",
        "\t\tif ocr is not None:\n",
        "\t\t\t(ocrH, ocrW) = ocr.shape[:2]\n",
        "\n",
        "\t\t\t# compute the spatial dimensions of the output frame\n",
        "\t\toutputW = max([frameW, cardW, ocrW])\n",
        "\t\toutputH = frameH + cardH + ocrH\n",
        "\t\t# update the max output spatial dimensions found thus far\n",
        "\t\tself.maxW = max(self.maxW, outputW)\n",
        "\t\tself.maxH = max(self.maxH, outputH)\n",
        "\t\t# allocate memory of the output image using our maximum\n",
        "\t\t# spatial dimensions\n",
        "\t\toutput = np.zeros((self.maxH, self.maxW, 3), dtype=\"uint8\")\n",
        "\t\t# set the frame in the output image\n",
        "\t\toutput[0:frameH, 0:frameW] = frame\n",
        "\n",
        "\t\t# if the card is not empty, add it to the output image\n",
        "\t\tif card is not None:\n",
        "\t\t\toutput[frameH:frameH + cardH, 0:cardW] = card\n",
        "\t\t# if the OCR result is not empty, add it to the output image\n",
        "\t\tif ocr is not None:\n",
        "\t\t\toutput[\n",
        "\t\t\t\tframeH + cardH:frameH + cardH + ocrH,\n",
        "\t\t\t\t0:ocrW] = ocr\n",
        "\t\t# return the output visualization image\n",
        "\t\treturn output"
      ]
    },
    {
      "cell_type": "code",
      "source": [
        "from imutils.video import VideoStream\n",
        "from imutils.perspective import four_point_transform\n",
        "from pytesseract import Output\n",
        "import pytesseract\n",
        "import numpy as np\n",
        "import argparse\n",
        "import imutils\n",
        "import time\n",
        "import cv2\n",
        "# initialize our video OCR output builder used to easily visualize\n",
        "# output to our screen\n",
        "outputBuilder = None\n",
        "# initialize our output video writer along with the dimensions of the\n",
        "# output frame\n",
        "writer = None\n",
        "outputW = None\n",
        "outputH = None\n",
        "\n",
        "try:\n",
        "\tap = argparse.ArgumentParser()\n",
        "\tap.add_argument(\"-i\", \"--input\", type=str,\n",
        "\thelp=\"path to optional input video (webcam will be used otherwise)\")\n",
        "\tap.add_argument(\"-o\", \"--output\", type=str,\n",
        "\thelp=\"path to optional output video\")\n",
        "\tap.add_argument(\"-c\", \"--min-conf\", type=int, default=50,\n",
        "\thelp=\"minimum confidence value to filter weak text detection\")\n",
        "\targs = vars(ap.parse_args())\n",
        "except Exception as e:\n",
        "\tprint(e)\n",
        "# initialize our video OCR output builder used to easily visualize\n",
        "# output to our screen\n",
        "outputBuilder = None\n",
        "\n",
        "# initialize our output video writer along with the dimensions of the\n",
        "# output frame\n",
        "writer = None\n",
        "outputW = None\n",
        "outputH = None\n",
        "# create a named window for our output OCR visualization (a named\n",
        "# window is required here so that we can automatically position it\n",
        "# on our screen)\n",
        "#cv2.namedWindow(\"Output\")\n",
        "\n",
        "\n",
        "# initialize a Boolean used to indicate if either a webcam or input\n",
        "# video is being used\n",
        "#webcam = not args.get(\"input\", False)"
      ],
      "metadata": {
        "id": "IkvmunXJIDeX",
        "colab": {
          "base_uri": "https://localhost:8080/",
          "height": 212
        },
        "outputId": "142d5b27-bf65-49e9-8773-f2d489fe638d"
      },
      "execution_count": null,
      "outputs": [
        {
          "output_type": "stream",
          "name": "stderr",
          "text": [
            "usage: colab_kernel_launcher.py [-h] [-i INPUT] [-o OUTPUT] [-c MIN_CONF]\n",
            "colab_kernel_launcher.py: error: unrecognized arguments: -f /root/.local/share/jupyter/runtime/kernel-997135ce-4e42-41df-800e-270d433121b7.json\n"
          ]
        },
        {
          "output_type": "error",
          "ename": "SystemExit",
          "evalue": "ignored",
          "traceback": [
            "An exception has occurred, use %tb to see the full traceback.\n",
            "\u001b[0;31mSystemExit\u001b[0m\u001b[0;31m:\u001b[0m 2\n"
          ]
        },
        {
          "output_type": "stream",
          "name": "stderr",
          "text": [
            "/usr/local/lib/python3.10/dist-packages/IPython/core/interactiveshell.py:3561: UserWarning: To exit: use 'exit', 'quit', or Ctrl-D.\n",
            "  warn(\"To exit: use 'exit', 'quit', or Ctrl-D.\", stacklevel=1)\n"
          ]
        }
      ]
    },
    {
      "cell_type": "code",
      "source": [],
      "metadata": {
        "id": "NpZQdaKjx0W9"
      },
      "execution_count": null,
      "outputs": []
    },
    {
      "cell_type": "markdown",
      "source": [
        "## Modified Version"
      ],
      "metadata": {
        "id": "h_7jqf9Zz0He"
      }
    },
    {
      "cell_type": "code",
      "source": [
        "from imutils.video import VideoStream\n",
        "from imutils.perspective import four_point_transform\n",
        "from pytesseract import Output\n",
        "import pytesseract\n",
        "import numpy as np\n",
        "import imutils\n",
        "import time\n",
        "import cv2\n",
        "\n",
        "# Define your arguments as variables\n",
        "input_video = \"path_to_input_video.mp4\"\n",
        "output_video = \"path_to_output_video.mp4\"\n",
        "min_conf = 50\n",
        "\n",
        "# Initialize your video OCR output builder\n",
        "outputBuilder = None\n",
        "\n",
        "# Initialize your output video writer along with the dimensions of the output frame\n",
        "writer = None\n",
        "outputW = None\n",
        "outputH = None\n",
        "\n",
        "# Your code here\n",
        "# ...\n",
        "\n",
        "# You can access the arguments like this:\n",
        "# print(f\"Input Video: {input_video}\")\n",
        "# print(f\"Output Video: {output_video}\")\n",
        "# print(f\"Minimum Confidence: {min_conf}\")\n"
      ],
      "metadata": {
        "id": "cSFD2IDXz2Nw"
      },
      "execution_count": null,
      "outputs": []
    },
    {
      "cell_type": "code",
      "source": [],
      "metadata": {
        "id": "JvYNRZunz3hx"
      },
      "execution_count": null,
      "outputs": []
    }
  ]
}